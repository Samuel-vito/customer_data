{
 "cells": [
  {
   "cell_type": "code",
   "execution_count": 1,
   "id": "de017d2f-51f4-40b2-a352-cf70a19b06a2",
   "metadata": {},
   "outputs": [],
   "source": [
    "import pandas as pd \n",
    "import numpy as py\n",
    "import matplotlib.pyplot as plt\n",
    "import seaborn as sns\n",
    "from sklearn.cluster import KMeans\n",
    "from sklearn.preprocessing import StandardScaler\n",
    "from sklearn.datasets import load_iris\n",
    "import plotly.express as px\n"
   ]
  },
  {
   "cell_type": "code",
   "execution_count": 6,
   "id": "f6491d7e-d9cc-4f84-917d-2333a8254e07",
   "metadata": {},
   "outputs": [],
   "source": [
    "from sklearn.datasets import load_iris\n",
    "import pandas as pd\n",
    "from sklearn.preprocessing import StandardScaler\n",
    "from sklearn.cluster import KMeans\n",
    "\n",
    "def Kmeans_clustering():\n",
    "    iris = load_iris()  # Load dataset\n",
    "    df = pd.DataFrame(iris.data, columns=iris.feature_names)  # Convert to DataFrame\n",
    "    scaler = StandardScaler()\n",
    "    df_scaled = scaler.fit_transform(df)  # Normalize data\n",
    "\n",
    "    # Apply KMeans Clustering\n",
    "    kmeans = KMeans(n_clusters=3, random_state=42, n_init=10)\n",
    "    df['Cluster'] = kmeans.fit_predict(df_scaled)\n",
    "\n",
    "    return df,iris.target_names\n",
    "\n",
    "                 "
   ]
  },
  {
   "cell_type": "code",
   "execution_count": 7,
   "id": "e50141ce-e485-45c9-a825-d7798c7ec8e2",
   "metadata": {},
   "outputs": [],
   "source": [
    "def plot_2d_scatter(df):\n",
    "    plt.figure(figsize=(8,6))  # Set figure size\n",
    "    \n",
    "    # Corrected scatterplot function\n",
    "    sns.scatterplot(x=df['sepal length (cm)'], \n",
    "                    y=df['sepal width (cm)'], \n",
    "                    hue=df['Cluster'], \n",
    "                    palette='viridis')\n",
    "\n",
    "    plt.xlabel('Sepal Length')  # Label x-axis\n",
    "    plt.ylabel('Sepal Width')   # Label y-axis\n",
    "    plt.title('K-Means Clustering of Iris Dataset')  # Title\n",
    "    plt.savefig(\"static/plot_2D.png\")\n",
    "    plt.close()"
   ]
  },
  {
   "cell_type": "code",
   "execution_count": 8,
   "id": "8aa8bd96-20c0-4c86-8cd2-4021dd0002a2",
   "metadata": {},
   "outputs": [],
   "source": [
    "def plot_3d_scatter(df):\n",
    "    fig = px.scatter_3d(df, \n",
    "                        x='sepal length (cm)', \n",
    "                        y='sepal width (cm)', \n",
    "                        z='petal length (cm)',  # Fixed the 'z' argument\n",
    "                        color=df['Cluster'].astype(str),  # Fixed bracket typo\n",
    "                        title=\"K-Means Clustering (3D View)\")\n",
    "\n",
    "    fig.write_html(\"static/plot_3d.html\")"
   ]
  },
  {
   "cell_type": "code",
   "execution_count": 10,
   "id": "54484437-27d3-4701-b8b9-0ae9ccf3e6c4",
   "metadata": {},
   "outputs": [],
   "source": [
    "df,sample=Kmeans_clustering()\n",
    "plot_3d_scatter(df)\n"
   ]
  },
  {
   "cell_type": "code",
   "execution_count": null,
   "id": "d2ee1b51-3eb6-4ddc-b98b-89a9669543a5",
   "metadata": {},
   "outputs": [],
   "source": []
  },
  {
   "cell_type": "code",
   "execution_count": null,
   "id": "d2d8c4df-e6a9-4c5b-931f-8d1734df9dc2",
   "metadata": {},
   "outputs": [],
   "source": []
  }
 ],
 "metadata": {
  "kernelspec": {
   "display_name": "Python 3 (ipykernel)",
   "language": "python",
   "name": "python3"
  },
  "language_info": {
   "codemirror_mode": {
    "name": "ipython",
    "version": 3
   },
   "file_extension": ".py",
   "mimetype": "text/x-python",
   "name": "python",
   "nbconvert_exporter": "python",
   "pygments_lexer": "ipython3",
   "version": "3.12.5"
  }
 },
 "nbformat": 4,
 "nbformat_minor": 5
}
